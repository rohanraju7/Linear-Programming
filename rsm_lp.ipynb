{
  "nbformat": 4,
  "nbformat_minor": 0,
  "metadata": {
    "colab": {
      "provenance": []
    },
    "kernelspec": {
      "name": "python3",
      "display_name": "Python 3"
    },
    "language_info": {
      "name": "python"
    }
  },
  "cells": [
    {
      "cell_type": "code",
      "source": [
        "import numpy as np"
      ],
      "metadata": {
        "id": "pGRpzd7F8d3u"
      },
      "execution_count": 1,
      "outputs": []
    },
    {
      "cell_type": "code",
      "source": [
        "# Returns the index of the entering variable, the entering variable and it's reduced cost,\n",
        "# or returns 0 if no entering variable exists\n",
        "def fullfindEV(n, c, A, varstatus, pi_t, phase1):\n",
        "    nonbasicvars = [index for index, value in enumerate(varstatus[0]) if value == -1]\n",
        "\n",
        "    cn = c[nonbasicvars]\n",
        "    cn_t = cn.T\n",
        "    N = A[:,nonbasicvars]\n",
        "\n",
        "    reduced_costs = cn_t - np.dot(pi_t, N)\n",
        "    s = np.argmin(reduced_costs)\n",
        "    minrc = reduced_costs[0][s]\n",
        "    ev = nonbasicvars[s]\n",
        "\n",
        "    return [s, ev, minrc]"
      ],
      "metadata": {
        "id": "mxHonGRa6XJu"
      },
      "execution_count": 2,
      "outputs": []
    },
    {
      "cell_type": "code",
      "source": [
        "#Returns the position in the basis of the leaving variable, leaving variable\n",
        "#or returns 0 if no leaving variable exists\n",
        "def fullfindLV(m, xB, BinvAs, basicvars, phase1):\n",
        "    # print(xB, BinvAs)\n",
        "    ratios = xB / (BinvAs + 1e-15)\n",
        "\n",
        "    for i in range(ratios.shape[0]):\n",
        "        if ratios[i] < 0:\n",
        "            ratios[i] = 1e6\n",
        "\n",
        "    r = np.argmin(ratios)\n",
        "    minratio = ratios[r][0]\n",
        "    lv = basicvars[0][r]\n",
        "\n",
        "    return [r, lv, minratio]"
      ],
      "metadata": {
        "id": "rhfmTw_z6uKu"
      },
      "execution_count": 3,
      "outputs": []
    },
    {
      "cell_type": "code",
      "source": [
        "#Updates the basis representation.\n",
        "def fullupdate(m, c, s, r, BinvAs, varstatus, basicvars, cB, Binv, xB, phase1=True):\n",
        "    gjp = np.hstack((xB, Binv, BinvAs))\n",
        "    gjp[r] /= (gjp[r][-1] + 1e-15)\n",
        "\n",
        "    for i in range(m):\n",
        "        if i == r:\n",
        "            continue\n",
        "        gjp[i] -= gjp[r] * gjp[i][-1]\n",
        "\n",
        "    Binv = gjp[:, 1:-1]\n",
        "\n",
        "    nonbasicvars = [index for index, value in enumerate(varstatus[0]) if value == -1]\n",
        "\n",
        "    ev = nonbasicvars[s]\n",
        "    lv = basicvars[0][r]\n",
        "\n",
        "    basicvars[0][r] = ev\n",
        "\n",
        "    if phase1:\n",
        "        if lv < n:\n",
        "            varstatus[0][lv] = -1\n",
        "        varstatus[0][ev] = r\n",
        "    else:\n",
        "        varstatus[0][lv] = -1\n",
        "        varstatus[0][ev] = r\n",
        "\n",
        "    xB = np.dot(Binv, b)\n",
        "    cB = c[basicvars[0]]\n",
        "\n",
        "    return [varstatus, basicvars, cB, Binv, xB, gjp[:, -1:]]"
      ],
      "metadata": {
        "id": "lQ1--Vi96xKe"
      },
      "execution_count": 4,
      "outputs": []
    },
    {
      "cell_type": "code",
      "source": [
        "#Solves a linear program using Gauss-Jordon updates\n",
        "# Assumes standard computational form\n",
        "# Performs a Phase I procedure starting from an artificial basis\n",
        "def fullrsm(m,n,c,A,b):\n",
        "    result = 0\n",
        "    z = 0\n",
        "    x = np.zeros((n,1))\n",
        "    pi = np.zeros((m,1))\n",
        "\n",
        "    c_phase2 = np.concatenate((c, np.ones((m,1))))\n",
        "\n",
        "    # phase 1 starts\n",
        "    Binv = np.identity(m)\n",
        "    phase1_c = np.zeros((n+m,1))\n",
        "    phase1_c[n:] += 1\n",
        "\n",
        "    varstatus = np.zeros((1,n)) - 1\n",
        "    varstatus = varstatus.astype(int)\n",
        "    xB = np.dot(Binv, b)\n",
        "    cB = np.ones((m,1))\n",
        "    basicvars = np.zeros((1, m))\n",
        "    for i in range(m):\n",
        "        basicvars[0][i] = n+i\n",
        "    basicvars = basicvars.astype(int)\n",
        "\n",
        "    for i in range(1000):\n",
        "        cB_t = cB.T\n",
        "        pi_t = np.dot(cB_t, Binv)\n",
        "\n",
        "        # step 1\n",
        "        s, ev, minrc = fullfindEV(n, phase1_c, A, varstatus, pi_t, phase1=True)\n",
        "\n",
        "        if minrc >= 0:\n",
        "            break\n",
        "\n",
        "        a_s = A[:, ev].reshape(m,1)\n",
        "        BinvAs = np.dot(Binv, a_s)\n",
        "\n",
        "        # step 2\n",
        "        r, lv, minratio = fullfindLV(m, xB, BinvAs, basicvars, phase1=True)\n",
        "\n",
        "        # step 3\n",
        "        varstatus, basicvars, cB, Binv, xB, _ = fullupdate(m, phase1_c, s, r, BinvAs, varstatus, basicvars, cB, Binv, xB, phase1=True)\n",
        "\n",
        "        if (basicvars[0] < n).all():\n",
        "            # print('break_condition reached')\n",
        "            # using these print statements you can check the intermediate values in a iteration.\n",
        "            # print(m, phase1_c, s, r, varstatus, basicvars, cB, Binv, xB)\n",
        "            break\n",
        "\n",
        "\n",
        "    # phase 1 ended; check if artificial in basis\n",
        "    # print(f'basicvars:{basicvars}')\n",
        "    # print(varstatus, basicvars)\n",
        "    # print(Binv)\n",
        "\n",
        "    while True:\n",
        "        if (basicvars[0] < n).all():\n",
        "            # print('break_condition reached')\n",
        "            # print(m, c_phase2, s, r, varstatus, basicvars, cB, Binv, xB)\n",
        "            break\n",
        "\n",
        "        # step 1\n",
        "        s, ev, minrc = fullfindEV(n, c_phase2, A, varstatus, pi_t, phase1=True)\n",
        "        a_s = A[:, ev].reshape(m,1)\n",
        "        BinvAs = np.dot(Binv, a_s)\n",
        "\n",
        "        # step 2\n",
        "        for index, value in enumerate(basicvars[0]):\n",
        "            if value >= n:\n",
        "                r, lv, minratio = index, value, 0\n",
        "                break\n",
        "\n",
        "\n",
        "        varstatus, basicvars, cB, Binv, xB, BinvAs = fullupdate(m, c_phase2, s, r, BinvAs, varstatus, basicvars, cB, Binv, xB, phase1=True)\n",
        "        # print('after')\n",
        "        # print(varstatus, basicvars)\n",
        "        # print(xB)\n",
        "        # print(Binv)\n",
        "        # print(BinvAs)\n",
        "\n",
        "    cB = phase1_c[basicvars[0]]\n",
        "    z = np.sum(cB * xB)\n",
        "\n",
        "    if z > 0:\n",
        "\n",
        "        z = 0\n",
        "        x = np.zeros_like(x)\n",
        "        pi = np.zeros_like(pi_t.T)\n",
        "\n",
        "        return [result, z, x, pi]\n",
        "\n",
        "    # phase 2 starts\n",
        "    result = -1\n",
        "    cB = c_phase2[basicvars[0]]\n",
        "\n",
        "    for i in range(1000):\n",
        "        cB_t = cB.T\n",
        "        pi_t = np.dot(cB_t, Binv)\n",
        "\n",
        "        # step 1\n",
        "        s, ev, minrc = fullfindEV(n, c_phase2, A, varstatus, pi_t, phase1=False)\n",
        "\n",
        "        if minrc >= 0:\n",
        "            result = +1\n",
        "            break\n",
        "\n",
        "        a_s = A[:, ev].reshape(m,1)\n",
        "        BinvAs = np.dot(Binv, a_s)\n",
        "\n",
        "        # step 2\n",
        "        r, lv, minratio = fullfindLV(m, xB, BinvAs, basicvars, phase1=False)\n",
        "\n",
        "        # step 3\n",
        "        varstatus, basicvars, cB, Binv, xB, _ = fullupdate(m, c_phase2, s, r, BinvAs, varstatus, basicvars, cB, Binv, xB, phase1=False)\n",
        "\n",
        "    pi = pi_t.T\n",
        "    for i in range(pi.shape[0]):\n",
        "      pi[i][0] = round(pi[i][0], 2)\n",
        "    z = np.sum(cB * xB)\n",
        "\n",
        "    for index, value in enumerate(varstatus[0]):\n",
        "        value = int(value)\n",
        "        if value == -1:\n",
        "            continue\n",
        "        else:\n",
        "            x[index] = round(xB[value][0], 2)\n",
        "\n",
        "    return [result, round(z, 2), x, pi]"
      ],
      "metadata": {
        "id": "68Oj0pM86NY2"
      },
      "execution_count": 5,
      "outputs": []
    },
    {
      "cell_type": "code",
      "source": [
        "m, n = 3, 7\n",
        "c = np.array([1,10,3,4,0,0,0]).reshape(n,1)\n",
        "A = np.array([\n",
        "    [1,2,1,1,1,0,0],\n",
        "    [-1,3,1,2,0,1,0],\n",
        "    [-1,-1,0,-1,0,0,1]\n",
        "])\n",
        "b = np.array([4,6,1]).reshape(m,1)"
      ],
      "metadata": {
        "id": "NoImLgfkAVZI"
      },
      "execution_count": 6,
      "outputs": []
    },
    {
      "cell_type": "code",
      "source": [
        "[result, z, x, pi] = fullrsm(m,n,c,A,b)"
      ],
      "metadata": {
        "id": "rWmI1y3g3PND"
      },
      "execution_count": 7,
      "outputs": []
    },
    {
      "cell_type": "code",
      "source": [
        "print(f'result:{result}')\n",
        "print(f'z:{z}')\n",
        "print(f'solution:\\n{x}')\n",
        "print(f'pi:\\n{pi}')"
      ],
      "metadata": {
        "colab": {
          "base_uri": "https://localhost:8080/"
        },
        "id": "glvioaX9323R",
        "outputId": "fa130ce8-188d-4f4f-cb26-91cbd5d7b107"
      },
      "execution_count": 8,
      "outputs": [
        {
          "output_type": "stream",
          "name": "stdout",
          "text": [
            "result:1\n",
            "z:0.0\n",
            "solution:\n",
            "[[0.]\n",
            " [0.]\n",
            " [0.]\n",
            " [0.]\n",
            " [4.]\n",
            " [6.]\n",
            " [1.]]\n",
            "pi:\n",
            "[[0.]\n",
            " [0.]\n",
            " [0.]]\n"
          ]
        }
      ]
    },
    {
      "cell_type": "code",
      "source": [],
      "metadata": {
        "id": "jy77B9OOEf02"
      },
      "execution_count": 8,
      "outputs": []
    },
    {
      "cell_type": "code",
      "source": [],
      "metadata": {
        "id": "mSfpXOlQbRNH"
      },
      "execution_count": 8,
      "outputs": []
    }
  ]
}